{
 "cells": [
  {
   "cell_type": "code",
   "execution_count": 1,
   "metadata": {},
   "outputs": [],
   "source": [
    "from __future__ import print_function\n",
    "import torch\n",
    "import numpy as np"
   ]
  },
  {
   "cell_type": "markdown",
   "metadata": {},
   "source": [
    "<p>何かしらの値が入る(not initialized,実行のたびにかわる)</p>"
   ]
  },
  {
   "cell_type": "code",
   "execution_count": 4,
   "metadata": {},
   "outputs": [
    {
     "name": "stdout",
     "output_type": "stream",
     "text": [
      "tensor([[1.0102e-38, 1.0286e-38, 1.0194e-38],\n",
      "        [9.6429e-39, 9.2755e-39, 9.1837e-39],\n",
      "        [9.3674e-39, 1.0745e-38, 1.0653e-38],\n",
      "        [9.5510e-39, 1.0561e-38, 1.0194e-38],\n",
      "        [1.1112e-38, 1.0561e-38, 9.9184e-39]])\n"
     ]
    }
   ],
   "source": [
    "x = torch.empty(5,3)\n",
    "print(x)"
   ]
  },
  {
   "cell_type": "markdown",
   "metadata": {},
   "source": [
    "<p>何かしらの値が入る(random initialized,実行のたびにかわる $0<x<1?$)</p>"
   ]
  },
  {
   "cell_type": "code",
   "execution_count": 16,
   "metadata": {},
   "outputs": [
    {
     "name": "stdout",
     "output_type": "stream",
     "text": [
      "tensor([[0.6250, 0.1520, 0.7480],\n",
      "        [0.2037, 0.3160, 0.5314],\n",
      "        [0.1090, 0.6828, 0.7686],\n",
      "        [0.2870, 0.3595, 0.1048],\n",
      "        [0.8464, 0.7757, 0.4505]])\n"
     ]
    }
   ],
   "source": [
    "x = torch.rand(5, 3)\n",
    "print(x)"
   ]
  },
  {
   "cell_type": "markdown",
   "metadata": {},
   "source": [
    "<p>0の行列(np.zeros)</p>"
   ]
  },
  {
   "cell_type": "code",
   "execution_count": 17,
   "metadata": {},
   "outputs": [
    {
     "name": "stdout",
     "output_type": "stream",
     "text": [
      "tensor([[0, 0, 0],\n",
      "        [0, 0, 0],\n",
      "        [0, 0, 0],\n",
      "        [0, 0, 0],\n",
      "        [0, 0, 0]])\n"
     ]
    }
   ],
   "source": [
    "x = torch.zeros(5, 3, dtype=torch.long)\n",
    "print(x)"
   ]
  },
  {
   "cell_type": "markdown",
   "metadata": {},
   "source": [
    "<p>np.array</p>"
   ]
  },
  {
   "cell_type": "code",
   "execution_count": 18,
   "metadata": {},
   "outputs": [
    {
     "name": "stdout",
     "output_type": "stream",
     "text": [
      "tensor([5.5000, 3.0000])\n"
     ]
    }
   ],
   "source": [
    "x = torch.tensor([5.5, 3])\n",
    "print(x)"
   ]
  },
  {
   "cell_type": "markdown",
   "metadata": {},
   "source": [
    "<p>上で定義されていたものを変える</p"
   ]
  },
  {
   "cell_type": "code",
   "execution_count": 24,
   "metadata": {},
   "outputs": [
    {
     "name": "stdout",
     "output_type": "stream",
     "text": [
      "tensor([[1, 1, 1],\n",
      "        [1, 1, 1],\n",
      "        [1, 1, 1],\n",
      "        [1, 1, 1],\n",
      "        [1, 1, 1]])\n",
      "tensor([[ 0.9650,  0.0569,  0.5698],\n",
      "        [ 0.2651,  0.1623, -0.4595],\n",
      "        [ 1.7692, -0.2797,  1.4178],\n",
      "        [ 1.4159,  0.2958,  0.5647],\n",
      "        [ 1.1038, -0.0021, -0.9707]])\n"
     ]
    }
   ],
   "source": [
    "# 行列xを1で埋める（double型）\n",
    "x = x.new_ones(5, 3, dtype=torch.long)\n",
    "print(x)\n",
    "# 行列xを平均0，分散1の正規分布で埋める（float型）\n",
    "# このように型の上書きもできる\n",
    "x = torch.randn_like(x, dtype=torch.float)\n",
    "print(x)   "
   ]
  },
  {
   "cell_type": "markdown",
   "metadata": {},
   "source": [
    "<p>?.shape()</p>"
   ]
  },
  {
   "cell_type": "code",
   "execution_count": 26,
   "metadata": {},
   "outputs": [
    {
     "name": "stdout",
     "output_type": "stream",
     "text": [
      "torch.Size([5, 3])\n"
     ]
    }
   ],
   "source": [
    "print(x.size())"
   ]
  },
  {
   "cell_type": "markdown",
   "metadata": {},
   "source": [
    "<p>行列同士の加算</p>"
   ]
  },
  {
   "cell_type": "code",
   "execution_count": 38,
   "metadata": {},
   "outputs": [
    {
     "name": "stdout",
     "output_type": "stream",
     "text": [
      "tensor([[ 0.9650,  0.0569,  0.5698],\n",
      "        [ 0.2651,  0.1623, -0.4595],\n",
      "        [ 1.7692, -0.2797,  1.4178],\n",
      "        [ 1.4159,  0.2958,  0.5647],\n",
      "        [ 1.1038, -0.0021, -0.9707]])\n",
      "tensor([[0.8076, 0.9392, 0.4408],\n",
      "        [0.8998, 0.4395, 0.3493],\n",
      "        [0.1738, 0.9196, 0.0626],\n",
      "        [0.3677, 0.2678, 0.9594],\n",
      "        [0.8003, 0.6209, 0.6020]])\n",
      "tensor([[ 1.7726,  0.9961,  1.0106],\n",
      "        [ 1.1649,  0.6019, -0.1101],\n",
      "        [ 1.9429,  0.6399,  1.4804],\n",
      "        [ 1.7836,  0.5636,  1.5241],\n",
      "        [ 1.9042,  0.6188, -0.3687]])\n"
     ]
    }
   ],
   "source": [
    "y = torch.rand(5, 3)\n",
    "print(x)\n",
    "print(y)\n",
    "print(x + y)"
   ]
  },
  {
   "cell_type": "code",
   "execution_count": 39,
   "metadata": {},
   "outputs": [
    {
     "name": "stdout",
     "output_type": "stream",
     "text": [
      "tensor([[ 1.7726,  0.9961,  1.0106],\n",
      "        [ 1.1649,  0.6019, -0.1101],\n",
      "        [ 1.9429,  0.6399,  1.4804],\n",
      "        [ 1.7836,  0.5636,  1.5241],\n",
      "        [ 1.9042,  0.6188, -0.3687]])\n"
     ]
    }
   ],
   "source": [
    "print(torch.add(x, y))"
   ]
  },
  {
   "cell_type": "code",
   "execution_count": 40,
   "metadata": {},
   "outputs": [
    {
     "name": "stdout",
     "output_type": "stream",
     "text": [
      "tensor([[ 1.7726,  0.9961,  1.0106],\n",
      "        [ 1.1649,  0.6019, -0.1101],\n",
      "        [ 1.9429,  0.6399,  1.4804],\n",
      "        [ 1.7836,  0.5636,  1.5241],\n",
      "        [ 1.9042,  0.6188, -0.3687]])\n"
     ]
    }
   ],
   "source": [
    "# adds x to y\n",
    "y.add_(x)\n",
    "print(y)"
   ]
  },
  {
   "cell_type": "markdown",
   "metadata": {},
   "source": [
    "<p>resultという箱を最初に定義しておいて計算結果をそこに入れる計算結果の結果の形を与えておかなければならないが、自動的に変えてくれる。</p>"
   ]
  },
  {
   "cell_type": "code",
   "execution_count": 37,
   "metadata": {},
   "outputs": [
    {
     "name": "stdout",
     "output_type": "stream",
     "text": [
      "torch.Size([5, 4])\n",
      "torch.Size([5, 3])\n",
      "tensor([[ 1.0655,  0.8380,  0.6673],\n",
      "        [ 0.6685,  0.7221, -0.3826],\n",
      "        [ 2.6350,  0.3643,  2.2662],\n",
      "        [ 1.4569,  1.2873,  0.6913],\n",
      "        [ 1.9184,  0.5826, -0.6012]])\n"
     ]
    }
   ],
   "source": [
    "result = torch.empty(5, 4)\n",
    "print(result.size())\n",
    "torch.add(x, y, out=result)\n",
    "print(result.size())\n",
    "print(result)"
   ]
  },
  {
   "cell_type": "markdown",
   "metadata": {},
   "source": [
    "<p>行列一列などの取り出し</p>"
   ]
  },
  {
   "cell_type": "code",
   "execution_count": 44,
   "metadata": {},
   "outputs": [
    {
     "name": "stdout",
     "output_type": "stream",
     "text": [
      "tensor([[ 0.9650,  0.0569,  0.5698],\n",
      "        [ 0.2651,  0.1623, -0.4595],\n",
      "        [ 1.7692, -0.2797,  1.4178],\n",
      "        [ 1.4159,  0.2958,  0.5647],\n",
      "        [ 1.1038, -0.0021, -0.9707]])\n",
      "tensor([0.9650, 0.2651, 1.7692, 1.4159, 1.1038])\n",
      "tensor([ 0.0569,  0.1623, -0.2797,  0.2958, -0.0021])\n",
      "tensor([ 0.5698, -0.4595,  1.4178,  0.5647, -0.9707])\n"
     ]
    }
   ],
   "source": [
    "print(x)\n",
    "print(x[:, 0])\n",
    "print(x[:, 1])\n",
    "print(x[:, 2])"
   ]
  },
  {
   "cell_type": "markdown",
   "metadata": {},
   "source": [
    "<p>リサイズ</p>"
   ]
  },
  {
   "cell_type": "code",
   "execution_count": 47,
   "metadata": {},
   "outputs": [
    {
     "name": "stdout",
     "output_type": "stream",
     "text": [
      "torch.Size([4, 4]) torch.Size([16]) torch.Size([2, 8])\n",
      "tensor([[ 1.2584,  1.0276, -0.1553, -0.3815],\n",
      "        [ 0.2134,  0.1717, -0.9681,  2.0915],\n",
      "        [ 2.4776,  0.2967,  0.0885, -0.9251],\n",
      "        [ 0.5808, -2.0552, -1.0990,  1.5134]])\n",
      "tensor([ 1.2584,  1.0276, -0.1553, -0.3815,  0.2134,  0.1717, -0.9681,  2.0915,\n",
      "         2.4776,  0.2967,  0.0885, -0.9251,  0.5808, -2.0552, -1.0990,  1.5134])\n",
      "tensor([[ 1.2584,  1.0276, -0.1553, -0.3815,  0.2134,  0.1717, -0.9681,  2.0915],\n",
      "        [ 2.4776,  0.2967,  0.0885, -0.9251,  0.5808, -2.0552, -1.0990,  1.5134]])\n"
     ]
    }
   ],
   "source": [
    "x = torch.randn(4, 4)\n",
    "y = x.view(16)\n",
    "z = x.view(-1, 8)  # the size -1 is inferred from other dimensions\n",
    "print(x.size(), y.size(), z.size())\n",
    "print(x)\n",
    "print(y)\n",
    "print(z)"
   ]
  },
  {
   "cell_type": "markdown",
   "metadata": {},
   "source": [
    "<p>要素<strong>一つ</strong>だけの取り出し</p>"
   ]
  },
  {
   "cell_type": "code",
   "execution_count": 50,
   "metadata": {},
   "outputs": [
    {
     "name": "stdout",
     "output_type": "stream",
     "text": [
      "tensor([-2.2229])\n",
      "-2.222933530807495\n"
     ]
    }
   ],
   "source": [
    "x = torch.randn(1)\n",
    "print(x)\n",
    "print(x.item())"
   ]
  },
  {
   "cell_type": "markdown",
   "metadata": {},
   "source": [
    "<p>GPUがあったら起動する</p>"
   ]
  },
  {
   "cell_type": "code",
   "execution_count": 51,
   "metadata": {},
   "outputs": [
    {
     "name": "stdout",
     "output_type": "stream",
     "text": [
      "tensor([-1.2229], device='cuda:0')\n",
      "tensor([-1.2229], dtype=torch.float64)\n"
     ]
    }
   ],
   "source": [
    "# let us run this cell only if CUDA is available\n",
    "# We will use ``torch.device`` objects to move tensors in and out of GPU\n",
    "if torch.cuda.is_available():\n",
    "    device = torch.device(\"cuda\")          # a CUDA device object\n",
    "    y = torch.ones_like(x, device=device)  # directly create a tensor on GPU\n",
    "    x = x.to(device)                       # or just use strings ``.to(\"cuda\")``\n",
    "    z = x + y\n",
    "    print(z)\n",
    "    print(z.to(\"cpu\", torch.double))       # ``.to`` can also change dtype together!"
   ]
  },
  {
   "cell_type": "code",
   "execution_count": null,
   "metadata": {},
   "outputs": [],
   "source": []
  }
 ],
 "metadata": {
  "kernelspec": {
   "display_name": "Python 3",
   "language": "python",
   "name": "python3"
  },
  "language_info": {
   "codemirror_mode": {
    "name": "ipython",
    "version": 3
   },
   "file_extension": ".py",
   "mimetype": "text/x-python",
   "name": "python",
   "nbconvert_exporter": "python",
   "pygments_lexer": "ipython3",
   "version": "3.6.7"
  }
 },
 "nbformat": 4,
 "nbformat_minor": 4
}
