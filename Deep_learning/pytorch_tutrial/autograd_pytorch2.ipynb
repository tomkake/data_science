{
 "cells": [
  {
   "cell_type": "code",
   "execution_count": 17,
   "metadata": {},
   "outputs": [],
   "source": [
    "import torch"
   ]
  },
  {
   "cell_type": "markdown",
   "metadata": {},
   "source": [
    "<p> requires_grad=Trueをつけることによって、微分対象のtensorを指定できる。\n",
    "requires_grad = Falseはfinetuningでの層のパラメータの固定をしたいときなどに使う。requires_grad=Trueなどの引数を使用して行列の加算などをすると、計算グラフが構築される。なので下記のx,yは加算された時点で内部的にはつながっている。そして加算された結果(y)ではgrad_fnという属性を持つ。これはどのFunctionによって生成されたtensorなのかを参照ができる。ただの変数にgrad_fnを指定するとNoneが返ってくる。今回のyでは加算された結果が入っているのでAddが参照される。\n",
    "</p>"
   ]
  },
  {
   "cell_type": "code",
   "execution_count": 18,
   "metadata": {},
   "outputs": [
    {
     "name": "stdout",
     "output_type": "stream",
     "text": [
      "tensor([[1., 1.],\n",
      "        [1., 1.]], requires_grad=True)\n",
      "tensor([[3., 3.],\n",
      "        [3., 3.]], grad_fn=<AddBackward0>)\n",
      "<AddBackward0 object at 0x00000108B1CD5B00>\n"
     ]
    }
   ],
   "source": [
    "x = torch.ones(2, 2,requires_grad=True)\n",
    "print(x)\n",
    "y = x + 2\n",
    "print(y)\n",
    "print(y.grad_fn)"
   ]
  },
  {
   "cell_type": "code",
   "execution_count": 19,
   "metadata": {},
   "outputs": [
    {
     "name": "stdout",
     "output_type": "stream",
     "text": [
      "tensor([[27., 27.],\n",
      "        [27., 27.]], grad_fn=<MulBackward0>)\n",
      "tensor(27., grad_fn=<MeanBackward0>)\n"
     ]
    }
   ],
   "source": [
    "\"\"\"ここではyはrequired_gradを引数とするxから結果を引き継いでいるので、\n",
    "#zはgrad_fnの属性を持っている\"\"\"\n",
    "z = y * y * 3\n",
    "out = z.mean()\n",
    "\n",
    "print(z)\n",
    "print(out)"
   ]
  },
  {
   "cell_type": "code",
   "execution_count": 20,
   "metadata": {},
   "outputs": [
    {
     "name": "stdout",
     "output_type": "stream",
     "text": [
      "False\n",
      "True\n",
      "<SumBackward0 object at 0x00000108B1CD5FD0>\n"
     ]
    }
   ],
   "source": [
    "a = torch.randn(2, 2)\n",
    "a = ((a * 3) / (a - 1))\n",
    "print(a.requires_grad)\n",
    "\"\"\"requires_gradは指定されていないので\n",
    "計算グラフは構築されないが下記のやり方で構築を可能にする。\"\"\"\n",
    "a.requires_grad_(True)\n",
    "print(a.requires_grad)\n",
    "b = (a * a).sum()\n",
    "print(b.grad_fn)"
   ]
  },
  {
   "cell_type": "markdown",
   "metadata": {},
   "source": [
    "<h3>勾配</h3>"
   ]
  },
  {
   "cell_type": "markdown",
   "metadata": {},
   "source": [
    "$out = \\frac{1}{4}\\sum_{i}z_i,z_i = 3(x_i+2)^2$<-これがoutの計算<br>\n",
    "xが今\n",
    "\\begin{pmatrix}\n",
    "1 & 1 \\\\\n",
    "1 & 1 \\\\\n",
    "\\end{pmatrix}\n",
    "であるから\n",
    "$\\frac{dz_i}{dx_i} = 6x_i+12$ より<br>\n",
    "$ \\frac{dout}{dx_i} = \\frac{3}{2}(x_i +2 )$でxの勾配を求める(要素がすべて1の行列であるから)からx = 1で計算をして\n",
    "\\begin{pmatrix}\n",
    "4.5 & 4.5 \\\\\n",
    "4.5 & 4.5 \\\\\n",
    "\\end{pmatrix}"
   ]
  },
  {
   "cell_type": "code",
   "execution_count": 21,
   "metadata": {},
   "outputs": [
    {
     "name": "stdout",
     "output_type": "stream",
     "text": [
      "tensor([[4.5000, 4.5000],\n",
      "        [4.5000, 4.5000]])\n"
     ]
    }
   ],
   "source": [
    "out.backward()\n",
    "print(x.grad)"
   ]
  },
  {
   "cell_type": "code",
   "execution_count": null,
   "metadata": {},
   "outputs": [],
   "source": []
  }
 ],
 "metadata": {
  "kernelspec": {
   "display_name": "Python 3",
   "language": "python",
   "name": "python3"
  },
  "language_info": {
   "codemirror_mode": {
    "name": "ipython",
    "version": 3
   },
   "file_extension": ".py",
   "mimetype": "text/x-python",
   "name": "python",
   "nbconvert_exporter": "python",
   "pygments_lexer": "ipython3",
   "version": "3.6.7"
  }
 },
 "nbformat": 4,
 "nbformat_minor": 4
}
